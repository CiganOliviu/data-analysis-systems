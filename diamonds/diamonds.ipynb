{
 "cells": [
  {
   "cell_type": "code",
   "execution_count": 53,
   "metadata": {},
   "outputs": [],
   "source": [
    "import pandas as pd\n",
    "import sklearn\n",
    "from sklearn import svm, preprocessing"
   ]
  },
  {
   "cell_type": "code",
   "execution_count": 54,
   "metadata": {},
   "outputs": [],
   "source": [
    "data_frame = pd.read_csv(\"diamonds.csv\", index_col = 0)"
   ]
  },
  {
   "cell_type": "code",
   "execution_count": 55,
   "metadata": {},
   "outputs": [
    {
     "data": {
      "text/html": [
       "<div>\n",
       "<style scoped>\n",
       "    .dataframe tbody tr th:only-of-type {\n",
       "        vertical-align: middle;\n",
       "    }\n",
       "\n",
       "    .dataframe tbody tr th {\n",
       "        vertical-align: top;\n",
       "    }\n",
       "\n",
       "    .dataframe thead th {\n",
       "        text-align: right;\n",
       "    }\n",
       "</style>\n",
       "<table border=\"1\" class=\"dataframe\">\n",
       "  <thead>\n",
       "    <tr style=\"text-align: right;\">\n",
       "      <th></th>\n",
       "      <th>carat</th>\n",
       "      <th>cut</th>\n",
       "      <th>color</th>\n",
       "      <th>clarity</th>\n",
       "      <th>depth</th>\n",
       "      <th>table</th>\n",
       "      <th>price</th>\n",
       "      <th>x</th>\n",
       "      <th>y</th>\n",
       "      <th>z</th>\n",
       "    </tr>\n",
       "  </thead>\n",
       "  <tbody>\n",
       "    <tr>\n",
       "      <th>1</th>\n",
       "      <td>0.23</td>\n",
       "      <td>Ideal</td>\n",
       "      <td>E</td>\n",
       "      <td>SI2</td>\n",
       "      <td>61.5</td>\n",
       "      <td>55.0</td>\n",
       "      <td>326</td>\n",
       "      <td>3.95</td>\n",
       "      <td>3.98</td>\n",
       "      <td>2.43</td>\n",
       "    </tr>\n",
       "    <tr>\n",
       "      <th>2</th>\n",
       "      <td>0.21</td>\n",
       "      <td>Premium</td>\n",
       "      <td>E</td>\n",
       "      <td>SI1</td>\n",
       "      <td>59.8</td>\n",
       "      <td>61.0</td>\n",
       "      <td>326</td>\n",
       "      <td>3.89</td>\n",
       "      <td>3.84</td>\n",
       "      <td>2.31</td>\n",
       "    </tr>\n",
       "    <tr>\n",
       "      <th>3</th>\n",
       "      <td>0.23</td>\n",
       "      <td>Good</td>\n",
       "      <td>E</td>\n",
       "      <td>VS1</td>\n",
       "      <td>56.9</td>\n",
       "      <td>65.0</td>\n",
       "      <td>327</td>\n",
       "      <td>4.05</td>\n",
       "      <td>4.07</td>\n",
       "      <td>2.31</td>\n",
       "    </tr>\n",
       "    <tr>\n",
       "      <th>4</th>\n",
       "      <td>0.29</td>\n",
       "      <td>Premium</td>\n",
       "      <td>I</td>\n",
       "      <td>VS2</td>\n",
       "      <td>62.4</td>\n",
       "      <td>58.0</td>\n",
       "      <td>334</td>\n",
       "      <td>4.20</td>\n",
       "      <td>4.23</td>\n",
       "      <td>2.63</td>\n",
       "    </tr>\n",
       "    <tr>\n",
       "      <th>5</th>\n",
       "      <td>0.31</td>\n",
       "      <td>Good</td>\n",
       "      <td>J</td>\n",
       "      <td>SI2</td>\n",
       "      <td>63.3</td>\n",
       "      <td>58.0</td>\n",
       "      <td>335</td>\n",
       "      <td>4.34</td>\n",
       "      <td>4.35</td>\n",
       "      <td>2.75</td>\n",
       "    </tr>\n",
       "  </tbody>\n",
       "</table>\n",
       "</div>"
      ],
      "text/plain": [
       "   carat      cut color clarity  depth  table  price     x     y     z\n",
       "1   0.23    Ideal     E     SI2   61.5   55.0    326  3.95  3.98  2.43\n",
       "2   0.21  Premium     E     SI1   59.8   61.0    326  3.89  3.84  2.31\n",
       "3   0.23     Good     E     VS1   56.9   65.0    327  4.05  4.07  2.31\n",
       "4   0.29  Premium     I     VS2   62.4   58.0    334  4.20  4.23  2.63\n",
       "5   0.31     Good     J     SI2   63.3   58.0    335  4.34  4.35  2.75"
      ]
     },
     "execution_count": 55,
     "metadata": {},
     "output_type": "execute_result"
    }
   ],
   "source": [
    "data_frame.head()"
   ]
  },
  {
   "cell_type": "code",
   "execution_count": 56,
   "metadata": {},
   "outputs": [],
   "source": [
    "cut_class_dict = {\"Fair\": 1, \"Good\": 2, \"Very Good\": 3, \"Premium\": 4, \"Ideal\": 5}\n",
    "clarity_dict = {\"I3\": 1, \"I2\": 2, \"I1\": 3, \"SI2\": 4, \"SI1\": 5, \"VS2\": 6, \"VS1\": 7, \"VVS2\": 8, \"VVS1\": 9, \"IF\": 10, \"FL\": 11}\n",
    "color_dict = {\"J\": 1,\"I\": 2,\"H\": 3,\"G\": 4,\"F\": 5,\"E\": 6,\"D\": 7}"
   ]
  },
  {
   "cell_type": "code",
   "execution_count": 57,
   "metadata": {},
   "outputs": [],
   "source": [
    "data_frame[\"cut\"] = data_frame[\"cut\"].map(cut_class_dict)\n",
    "data_frame[\"clarity\"] = data_frame[\"clarity\"].map(clarity_dict)\n",
    "data_frame[\"color\"] = data_frame[\"color\"].map(color_dict)"
   ]
  },
  {
   "cell_type": "code",
   "execution_count": 58,
   "metadata": {},
   "outputs": [],
   "source": [
    "data_frame = sklearn.utils.shuffle(data_frame)"
   ]
  },
  {
   "cell_type": "code",
   "execution_count": 59,
   "metadata": {},
   "outputs": [],
   "source": [
    "Xs = data_frame.drop(\"price\", axis = 1).values\n",
    "Xs = preprocessing.scale(Xs)\n",
    "Ys = data_frame[\"price\"].values"
   ]
  },
  {
   "cell_type": "code",
   "execution_count": 60,
   "metadata": {},
   "outputs": [],
   "source": [
    "test_size = 150"
   ]
  },
  {
   "cell_type": "code",
   "execution_count": 61,
   "metadata": {},
   "outputs": [],
   "source": [
    "Xs_train = Xs[:-test_size]\n",
    "Ys_train = Ys[:-test_size]\n",
    "\n",
    "Xs_test = Xs[-test_size:]\n",
    "Ys_test = Ys[-test_size:]"
   ]
  },
  {
   "cell_type": "code",
   "execution_count": 64,
   "metadata": {},
   "outputs": [],
   "source": [
    "classifier = svm.SVR (kernel = \"linear\")"
   ]
  },
  {
   "cell_type": "code",
   "execution_count": 65,
   "metadata": {},
   "outputs": [
    {
     "data": {
      "text/plain": [
       "SVR(C=1.0, cache_size=200, coef0=0.0, degree=3, epsilon=0.1,\n",
       "    gamma='auto_deprecated', kernel='linear', max_iter=-1, shrinking=True,\n",
       "    tol=0.001, verbose=False)"
      ]
     },
     "execution_count": 65,
     "metadata": {},
     "output_type": "execute_result"
    }
   ],
   "source": [
    "classifier.fit(Xs_train, Ys_train)"
   ]
  },
  {
   "cell_type": "code",
   "execution_count": 66,
   "metadata": {},
   "outputs": [
    {
     "data": {
      "text/plain": [
       "0.8727391765503582"
      ]
     },
     "execution_count": 66,
     "metadata": {},
     "output_type": "execute_result"
    }
   ],
   "source": [
    "classifier.score(Xs_test, Ys_test)"
   ]
  },
  {
   "cell_type": "code",
   "execution_count": 67,
   "metadata": {},
   "outputs": [
    {
     "name": "stdout",
     "output_type": "stream",
     "text": [
      "Model 9546.482272688758, Actual 14400\n",
      "Model 29.09615470149356, Actual 526\n",
      "Model 5952.111600814129, Actual 5231\n",
      "Model -53.91233127536816, Actual 628\n",
      "Model 249.2663805568618, Actual 550\n",
      "Model 453.3186720397084, Actual 879\n",
      "Model 1287.8311482304625, Actual 1052\n",
      "Model 394.9223451273533, Actual 680\n",
      "Model 3347.1483048952064, Actual 3041\n",
      "Model 6324.3380986609445, Actual 6604\n",
      "Model 4956.842421706011, Actual 5166\n",
      "Model 1019.5732839900083, Actual 956\n",
      "Model 2138.8759712306028, Actual 1698\n",
      "Model 2822.3511507238627, Actual 2351\n",
      "Model 667.1415813753233, Actual 886\n",
      "Model 620.9019852913843, Actual 945\n",
      "Model -235.7436977301768, Actual 479\n",
      "Model 6360.945154008143, Actual 6438\n",
      "Model 12.589879657720303, Actual 453\n",
      "Model 10282.761548665228, Actual 9580\n",
      "Model 11837.967718878283, Actual 16693\n",
      "Model 450.35248441385284, Actual 828\n",
      "Model 1412.7301982322897, Actual 1438\n",
      "Model 4877.8861156174025, Actual 5260\n",
      "Model 6547.6251502980795, Actual 8380\n",
      "Model 5310.018278880503, Actual 4315\n",
      "Model 1064.5951109319253, Actual 872\n",
      "Model 1298.63597074157, Actual 925\n",
      "Model 7670.124530380826, Actual 7887\n",
      "Model 2923.9930665250768, Actual 2648\n",
      "Model 6906.674391765317, Actual 10115\n",
      "Model -366.8625035111263, Actual 591\n",
      "Model 1174.3165212431932, Actual 834\n",
      "Model 1361.135947395337, Actual 1282\n",
      "Model 4732.781686897281, Actual 4718\n",
      "Model -198.2215219245436, Actual 491\n",
      "Model 3925.6869959851256, Actual 3398\n",
      "Model 12630.542804150195, Actual 13046\n",
      "Model 8777.650809889348, Actual 12551\n",
      "Model 2067.3491365170303, Actual 1771\n",
      "Model 4808.573981208865, Actual 4819\n",
      "Model -388.0702834516296, Actual 447\n",
      "Model 4802.984921218551, Actual 4821\n",
      "Model 642.5045647386814, Actual 672\n",
      "Model 4213.232553315078, Actual 3203\n",
      "Model 325.6844874273738, Actual 658\n",
      "Model 196.6896185043979, Actual 765\n",
      "Model 11887.84553261015, Actual 18371\n",
      "Model 1832.7702399966715, Actual 1397\n",
      "Model 11783.26939255209, Actual 15996\n",
      "Model 8325.986046656733, Actual 9178\n",
      "Model 2401.972601596891, Actual 2116\n",
      "Model 3362.587905674766, Actual 3342\n",
      "Model 4228.469463965692, Actual 3730\n",
      "Model -638.6401162161387, Actual 540\n",
      "Model 8741.692365812445, Actual 12060\n",
      "Model -84.92180535494026, Actual 628\n",
      "Model 1395.8980713691908, Actual 1031\n",
      "Model 5938.8507696924335, Actual 10800\n",
      "Model 979.3047509130693, Actual 741\n",
      "Model 5576.990592161761, Actual 3156\n",
      "Model 1452.816277860954, Actual 1133\n",
      "Model 138.76370170003156, Actual 505\n",
      "Model 243.83589118417422, Actual 802\n",
      "Model 6509.061646857489, Actual 5641\n",
      "Model 3294.465834065011, Actual 2575\n",
      "Model 975.7409570747413, Actual 814\n",
      "Model 4204.855207302904, Actual 3749\n",
      "Model 1106.0994178972378, Actual 1038\n",
      "Model 5943.274713082261, Actual 9555\n",
      "Model 668.7156289343511, Actual 789\n",
      "Model 7008.415245158445, Actual 9694\n",
      "Model 322.7611063056884, Actual 684\n",
      "Model 75.85974223057019, Actual 544\n",
      "Model 6433.545128946391, Actual 5382\n",
      "Model 869.1061090226799, Actual 698\n",
      "Model 4377.156017156251, Actual 4917\n",
      "Model 1517.9385926581172, Actual 1200\n",
      "Model 2609.762232244092, Actual 2608\n",
      "Model 8534.564699235574, Actual 7643\n",
      "Model 1254.9547327781402, Actual 1076\n",
      "Model 1665.1033101074033, Actual 1451\n",
      "Model 10508.071771803408, Actual 14866\n",
      "Model 4751.167825922151, Actual 3763\n",
      "Model 3785.7562321487458, Actual 3238\n",
      "Model 4035.6393566346096, Actual 3282\n",
      "Model 5131.520380951461, Actual 4830\n",
      "Model 8759.319254530701, Actual 9209\n",
      "Model 6527.53135103958, Actual 6121\n",
      "Model 91.47945960119978, Actual 544\n",
      "Model 6103.875126789426, Actual 11057\n",
      "Model 5034.786091978414, Actual 5038\n",
      "Model 1336.4308327171307, Actual 1103\n",
      "Model 5045.134584852517, Actual 4318\n",
      "Model 12598.632388205193, Actual 17640\n",
      "Model 6422.863055289488, Actual 6162\n",
      "Model 5865.01005797303, Actual 4524\n",
      "Model 409.4711167544474, Actual 642\n",
      "Model -352.9552642645226, Actual 455\n",
      "Model 1886.480470618547, Actual 1576\n",
      "Model 270.07841702543965, Actual 605\n",
      "Model 333.8526695112978, Actual 621\n",
      "Model 191.2104605845825, Actual 605\n",
      "Model 1256.4040514494836, Actual 1129\n",
      "Model 5125.797290158879, Actual 5370\n",
      "Model 4513.511338666376, Actual 4642\n",
      "Model 12310.624151755808, Actual 17607\n",
      "Model 8325.585898306468, Actual 9527\n",
      "Model 8356.194095620744, Actual 9173\n",
      "Model 3299.1511611804526, Actual 3662\n",
      "Model 11889.71108564453, Actual 14402\n",
      "Model 4946.568624875532, Actual 4578\n",
      "Model -180.78376348126403, Actual 574\n",
      "Model -226.42188900216797, Actual 378\n",
      "Model 1097.3305741443796, Actual 935\n",
      "Model 3246.903907726455, Actual 2726\n",
      "Model 500.88914572643444, Actual 740\n",
      "Model 170.70608317389178, Actual 802\n",
      "Model 1434.506185939782, Actual 1013\n",
      "Model 1893.630031860065, Actual 1680\n",
      "Model 7156.254043429072, Actual 8400\n",
      "Model 5489.791816021932, Actual 5106\n",
      "Model 562.1032135516612, Actual 772\n",
      "Model 2248.594926940985, Actual 1865\n",
      "Model 8227.128247494213, Actual 9236\n",
      "Model 2730.636568961496, Actual 2328\n",
      "Model 828.5544188384929, Actual 947\n",
      "Model 7956.911264606471, Actual 7239\n",
      "Model 4136.523797826672, Actual 4128\n",
      "Model 240.8997696222259, Actual 828\n",
      "Model 4207.493438901355, Actual 3709\n",
      "Model 6380.4088195931745, Actual 10133\n",
      "Model 3004.081987140052, Actual 3577\n",
      "Model 3265.340216377537, Actual 3732\n",
      "Model 220.00725700166322, Actual 544\n",
      "Model 3472.558998590659, Actual 2958\n",
      "Model 539.8833474769931, Actual 723\n",
      "Model 2267.842976475639, Actual 2168\n",
      "Model 1809.2667972744052, Actual 1727\n",
      "Model 9047.193837078888, Actual 10662\n",
      "Model 197.23601034131298, Actual 743\n",
      "Model 835.8233734496303, Actual 984\n",
      "Model 717.4522287880782, Actual 746\n",
      "Model 3698.6895893808746, Actual 2728\n",
      "Model 11603.746378781303, Actual 14103\n",
      "Model 5671.583619578955, Actual 7785\n",
      "Model 1449.3577464838131, Actual 944\n",
      "Model 3591.416916389602, Actual 2905\n",
      "Model 1955.1127337103378, Actual 1313\n",
      "Model 912.6154242877724, Actual 965\n"
     ]
    }
   ],
   "source": [
    "for Xs_iterator, Ys_iterator in zip(Xs_test, Ys_test):\n",
    "    print(f\"Model {classifier.predict([Xs_iterator])[0]}, Actual {Ys_iterator}\")"
   ]
  },
  {
   "cell_type": "code",
   "execution_count": null,
   "metadata": {},
   "outputs": [],
   "source": []
  }
 ],
 "metadata": {
  "kernelspec": {
   "display_name": "Python 3",
   "language": "python",
   "name": "python3"
  },
  "language_info": {
   "codemirror_mode": {
    "name": "ipython",
    "version": 3
   },
   "file_extension": ".py",
   "mimetype": "text/x-python",
   "name": "python",
   "nbconvert_exporter": "python",
   "pygments_lexer": "ipython3",
   "version": "3.7.3"
  }
 },
 "nbformat": 4,
 "nbformat_minor": 2
}
